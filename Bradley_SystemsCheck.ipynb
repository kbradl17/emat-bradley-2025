{
 "cells": [
  {
   "cell_type": "markdown",
   "id": "9d629eeb-39f5-401f-8e79-e63d37976ec8",
   "metadata": {},
   "source": [
    "# Systems Test\n",
    "## Kalayah Bradley\n",
    "### 8/20/24"
   ]
  },
  {
   "cell_type": "markdown",
   "id": "a2b50224-d4a5-4bb6-a826-6bf4f3710885",
   "metadata": {},
   "source": [
    "## What I hope to get out of the class"
   ]
  },
  {
   "cell_type": "markdown",
   "id": "6f62cb29-3b51-45b8-836e-5b05bc83a628",
   "metadata": {},
   "source": [
    "1. I hope to learn to code in python\n",
    "2. I hope to learn about APIs and this class as a whole\n",
    "3. I hope to learn how things in this class will apply to my future career\n",
    "   - I also want to know if I would like a career doing this"
   ]
  },
  {
   "cell_type": "code",
   "execution_count": 11,
   "id": "2780d20a-8aa2-4943-92aa-7ae5cc80bb01",
   "metadata": {},
   "outputs": [
    {
     "name": "stdin",
     "output_type": "stream",
     "text": [
      "Enter your name:  Kalayah\n"
     ]
    },
    {
     "name": "stdout",
     "output_type": "stream",
     "text": [
      "Hello Kalayah\n"
     ]
    }
   ],
   "source": [
    "name = input(\"Enter your name: \")\n",
    "print(\"Hello\", name)"
   ]
  },
  {
   "cell_type": "markdown",
   "id": "ac88ed00-8a3a-4343-a231-3adb0e806c24",
   "metadata": {},
   "source": []
  }
 ],
 "metadata": {
  "kernelspec": {
   "display_name": "Python 3 (ipykernel)",
   "language": "python",
   "name": "python3"
  },
  "language_info": {
   "codemirror_mode": {
    "name": "ipython",
    "version": 3
   },
   "file_extension": ".py",
   "mimetype": "text/x-python",
   "name": "python",
   "nbconvert_exporter": "python",
   "pygments_lexer": "ipython3",
   "version": "3.12.11"
  }
 },
 "nbformat": 4,
 "nbformat_minor": 5
}
