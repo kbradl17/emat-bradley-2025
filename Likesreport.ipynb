{
 "cells": [
  {
   "cell_type": "markdown",
   "id": "1080e992-b676-4fea-a730-49d543daf688",
   "metadata": {},
   "source": [
    "# Likes Report \n",
    "## Kalayah Bradley\n",
    "## September 14th, 2025"
   ]
  },
  {
   "cell_type": "markdown",
   "id": "f96ba615-d4c3-4976-8161-0b7e30c85d83",
   "metadata": {},
   "source": [
    "## Section 1\n",
    "Questions about Data"
   ]
  },
  {
   "cell_type": "markdown",
   "id": "b9465c69-8af6-42f6-8648-e0569215a9c1",
   "metadata": {},
   "source": [
    "## Section 2\n",
    "Open and load the json file"
   ]
  },
  {
   "cell_type": "code",
   "execution_count": 2,
   "id": "1a5023ae-7e44-4c88-ab7a-2edff76818d5",
   "metadata": {},
   "outputs": [],
   "source": [
    "# These are the imports we need\n",
    "import json\n",
    "import pandas as pd\n",
    "import matplotlib as plt"
   ]
  },
  {
   "cell_type": "code",
   "execution_count": 5,
   "id": "653efd14-a2b3-4b5c-995b-7bc1d0aaf262",
   "metadata": {},
   "outputs": [],
   "source": [
    "path = r\"/Users/Kalayah/Downloads/instagram-peachyyyyy/your_instagram_activity/likes/liked_posts.json\"\n",
    "with open(path) as l:\n",
    "    dict = json.load(l)"
   ]
  },
  {
   "cell_type": "markdown",
   "id": "f115c612-33e5-4f6b-bd39-bc44b68affdb",
   "metadata": {},
   "source": [
    "## Section 3\n",
    "Conver the data into DATAframe object and assign it to a new variable using pandas DataFrame function\n"
   ]
  },
  {
   "cell_type": "code",
   "execution_count": 6,
   "id": "45edf7ae-4dd0-4496-925b-4e7d7950ad1e",
   "metadata": {},
   "outputs": [
    {
     "data": {
      "text/html": [
       "<div>\n",
       "<style scoped>\n",
       "    .dataframe tbody tr th:only-of-type {\n",
       "        vertical-align: middle;\n",
       "    }\n",
       "\n",
       "    .dataframe tbody tr th {\n",
       "        vertical-align: top;\n",
       "    }\n",
       "\n",
       "    .dataframe thead th {\n",
       "        text-align: right;\n",
       "    }\n",
       "</style>\n",
       "<table border=\"1\" class=\"dataframe\">\n",
       "  <thead>\n",
       "    <tr style=\"text-align: right;\">\n",
       "      <th></th>\n",
       "      <th>likes_media_likes</th>\n",
       "    </tr>\n",
       "  </thead>\n",
       "  <tbody>\n",
       "    <tr>\n",
       "      <th>0</th>\n",
       "      <td>{'title': 'holly.perk', 'string_list_data': [{...</td>\n",
       "    </tr>\n",
       "    <tr>\n",
       "      <th>1</th>\n",
       "      <td>{'title': 'spread.the.grub', 'string_list_data...</td>\n",
       "    </tr>\n",
       "    <tr>\n",
       "      <th>2</th>\n",
       "      <td>{'title': 'stellabarbellas', 'string_list_data...</td>\n",
       "    </tr>\n",
       "    <tr>\n",
       "      <th>3</th>\n",
       "      <td>{'title': 'coilz.beauty', 'string_list_data': ...</td>\n",
       "    </tr>\n",
       "    <tr>\n",
       "      <th>4</th>\n",
       "      <td>{'title': 'edgarswidit', 'string_list_data': [...</td>\n",
       "    </tr>\n",
       "  </tbody>\n",
       "</table>\n",
       "</div>"
      ],
      "text/plain": [
       "                                   likes_media_likes\n",
       "0  {'title': 'holly.perk', 'string_list_data': [{...\n",
       "1  {'title': 'spread.the.grub', 'string_list_data...\n",
       "2  {'title': 'stellabarbellas', 'string_list_data...\n",
       "3  {'title': 'coilz.beauty', 'string_list_data': ...\n",
       "4  {'title': 'edgarswidit', 'string_list_data': [..."
      ]
     },
     "execution_count": 6,
     "metadata": {},
     "output_type": "execute_result"
    }
   ],
   "source": [
    "df = pd.DataFrame(dict)\n",
    "df.head()"
   ]
  },
  {
   "cell_type": "code",
   "execution_count": 7,
   "id": "09886e1d-c74b-4bde-8751-f7a266683bdb",
   "metadata": {},
   "outputs": [
    {
     "data": {
      "text/plain": [
       "dict_keys(['likes_media_likes'])"
      ]
     },
     "execution_count": 7,
     "metadata": {},
     "output_type": "execute_result"
    }
   ],
   "source": [
    "dict.keys()"
   ]
  },
  {
   "cell_type": "code",
   "execution_count": 8,
   "id": "8c60f91d-30e3-4911-9371-3afbae6dee11",
   "metadata": {},
   "outputs": [
    {
     "data": {
      "text/html": [
       "<div>\n",
       "<style scoped>\n",
       "    .dataframe tbody tr th:only-of-type {\n",
       "        vertical-align: middle;\n",
       "    }\n",
       "\n",
       "    .dataframe tbody tr th {\n",
       "        vertical-align: top;\n",
       "    }\n",
       "\n",
       "    .dataframe thead th {\n",
       "        text-align: right;\n",
       "    }\n",
       "</style>\n",
       "<table border=\"1\" class=\"dataframe\">\n",
       "  <thead>\n",
       "    <tr style=\"text-align: right;\">\n",
       "      <th></th>\n",
       "      <th>title</th>\n",
       "      <th>string_list_data</th>\n",
       "    </tr>\n",
       "  </thead>\n",
       "  <tbody>\n",
       "    <tr>\n",
       "      <th>0</th>\n",
       "      <td>holly.perk</td>\n",
       "      <td>[{'href': 'https://www.instagram.com/p/DNyQJx5...</td>\n",
       "    </tr>\n",
       "    <tr>\n",
       "      <th>1</th>\n",
       "      <td>spread.the.grub</td>\n",
       "      <td>[{'href': 'https://www.instagram.com/reel/DMoW...</td>\n",
       "    </tr>\n",
       "    <tr>\n",
       "      <th>2</th>\n",
       "      <td>stellabarbellas</td>\n",
       "      <td>[{'href': 'https://www.instagram.com/p/DFnetCE...</td>\n",
       "    </tr>\n",
       "    <tr>\n",
       "      <th>3</th>\n",
       "      <td>coilz.beauty</td>\n",
       "      <td>[{'href': 'https://www.instagram.com/reel/DMot...</td>\n",
       "    </tr>\n",
       "    <tr>\n",
       "      <th>4</th>\n",
       "      <td>edgarswidit</td>\n",
       "      <td>[{'href': 'https://www.instagram.com/reel/DKbG...</td>\n",
       "    </tr>\n",
       "  </tbody>\n",
       "</table>\n",
       "</div>"
      ],
      "text/plain": [
       "             title                                   string_list_data\n",
       "0       holly.perk  [{'href': 'https://www.instagram.com/p/DNyQJx5...\n",
       "1  spread.the.grub  [{'href': 'https://www.instagram.com/reel/DMoW...\n",
       "2  stellabarbellas  [{'href': 'https://www.instagram.com/p/DFnetCE...\n",
       "3     coilz.beauty  [{'href': 'https://www.instagram.com/reel/DMot...\n",
       "4      edgarswidit  [{'href': 'https://www.instagram.com/reel/DKbG..."
      ]
     },
     "execution_count": 8,
     "metadata": {},
     "output_type": "execute_result"
    }
   ],
   "source": [
    "df_tidy = pd.DataFrame(dict['likes_media_likes'])\n",
    "df_tidy.head()"
   ]
  },
  {
   "cell_type": "markdown",
   "id": "0fc48fd6-c65d-48cf-8f31-7074f6daa9f8",
   "metadata": {},
   "source": [
    "## Section 4"
   ]
  },
  {
   "cell_type": "code",
   "execution_count": 10,
   "id": "aa455be0-128c-4396-a08f-2b8b05961688",
   "metadata": {},
   "outputs": [
    {
     "data": {
      "text/plain": [
       "[{'href': 'https://www.instagram.com/p/DNyQJx52rPy/',\n",
       "  'value': 'ð\\x9f\\x91\\x8d',\n",
       "  'timestamp': 1756143953}]"
      ]
     },
     "execution_count": 10,
     "metadata": {},
     "output_type": "execute_result"
    }
   ],
   "source": [
    "df_tidy['string_list_data'].iloc[0]"
   ]
  },
  {
   "cell_type": "code",
   "execution_count": 11,
   "id": "1f903236-a4ba-4279-9bfd-813e8a0afe84",
   "metadata": {},
   "outputs": [
    {
     "data": {
      "text/plain": [
       "list"
      ]
     },
     "execution_count": 11,
     "metadata": {},
     "output_type": "execute_result"
    }
   ],
   "source": [
    "type(df_tidy['string_list_data'].iloc[0])"
   ]
  },
  {
   "cell_type": "code",
   "execution_count": 12,
   "id": "87ffc793-1b7a-4f38-b68a-f98f0d08ec42",
   "metadata": {},
   "outputs": [
    {
     "data": {
      "text/plain": [
       "1"
      ]
     },
     "execution_count": 12,
     "metadata": {},
     "output_type": "execute_result"
    }
   ],
   "source": [
    "len(df_tidy['string_list_data'].iloc[0])"
   ]
  },
  {
   "cell_type": "code",
   "execution_count": 13,
   "id": "adde7581-06c7-48ec-b825-516bf493a1d2",
   "metadata": {},
   "outputs": [
    {
     "data": {
      "text/plain": [
       "{'href': 'https://www.instagram.com/p/DNyQJx52rPy/',\n",
       " 'value': 'ð\\x9f\\x91\\x8d',\n",
       " 'timestamp': 1756143953}"
      ]
     },
     "execution_count": 13,
     "metadata": {},
     "output_type": "execute_result"
    }
   ],
   "source": [
    "df_tidy['string_list_data'].iloc[0][0]"
   ]
  },
  {
   "cell_type": "code",
   "execution_count": 15,
   "id": "6711d5f3-486d-4523-b7e0-1875a664038f",
   "metadata": {},
   "outputs": [
    {
     "data": {
      "text/plain": [
       "1756143953"
      ]
     },
     "execution_count": 15,
     "metadata": {},
     "output_type": "execute_result"
    }
   ],
   "source": [
    "df_tidy['string_list_data'].iloc[0][0]['timestamp']"
   ]
  },
  {
   "cell_type": "code",
   "execution_count": 19,
   "id": "67dd3c2c-b74c-46f1-99fa-042ed67f0ba0",
   "metadata": {},
   "outputs": [
    {
     "data": {
      "text/html": [
       "<div>\n",
       "<style scoped>\n",
       "    .dataframe tbody tr th:only-of-type {\n",
       "        vertical-align: middle;\n",
       "    }\n",
       "\n",
       "    .dataframe tbody tr th {\n",
       "        vertical-align: top;\n",
       "    }\n",
       "\n",
       "    .dataframe thead th {\n",
       "        text-align: right;\n",
       "    }\n",
       "</style>\n",
       "<table border=\"1\" class=\"dataframe\">\n",
       "  <thead>\n",
       "    <tr style=\"text-align: right;\">\n",
       "      <th></th>\n",
       "      <th>title</th>\n",
       "      <th>string_list_data</th>\n",
       "      <th>Time of Like</th>\n",
       "    </tr>\n",
       "  </thead>\n",
       "  <tbody>\n",
       "    <tr>\n",
       "      <th>0</th>\n",
       "      <td>holly.perk</td>\n",
       "      <td>[{'href': 'https://www.instagram.com/p/DNyQJx5...</td>\n",
       "      <td>1756143953</td>\n",
       "    </tr>\n",
       "    <tr>\n",
       "      <th>1</th>\n",
       "      <td>spread.the.grub</td>\n",
       "      <td>[{'href': 'https://www.instagram.com/reel/DMoW...</td>\n",
       "      <td>1756133740</td>\n",
       "    </tr>\n",
       "    <tr>\n",
       "      <th>2</th>\n",
       "      <td>stellabarbellas</td>\n",
       "      <td>[{'href': 'https://www.instagram.com/p/DFnetCE...</td>\n",
       "      <td>1756133685</td>\n",
       "    </tr>\n",
       "    <tr>\n",
       "      <th>3</th>\n",
       "      <td>coilz.beauty</td>\n",
       "      <td>[{'href': 'https://www.instagram.com/reel/DMot...</td>\n",
       "      <td>1756133652</td>\n",
       "    </tr>\n",
       "    <tr>\n",
       "      <th>4</th>\n",
       "      <td>edgarswidit</td>\n",
       "      <td>[{'href': 'https://www.instagram.com/reel/DKbG...</td>\n",
       "      <td>1756133624</td>\n",
       "    </tr>\n",
       "  </tbody>\n",
       "</table>\n",
       "</div>"
      ],
      "text/plain": [
       "             title                                   string_list_data  \\\n",
       "0       holly.perk  [{'href': 'https://www.instagram.com/p/DNyQJx5...   \n",
       "1  spread.the.grub  [{'href': 'https://www.instagram.com/reel/DMoW...   \n",
       "2  stellabarbellas  [{'href': 'https://www.instagram.com/p/DFnetCE...   \n",
       "3     coilz.beauty  [{'href': 'https://www.instagram.com/reel/DMot...   \n",
       "4      edgarswidit  [{'href': 'https://www.instagram.com/reel/DKbG...   \n",
       "\n",
       "   Time of Like  \n",
       "0    1756143953  \n",
       "1    1756133740  \n",
       "2    1756133685  \n",
       "3    1756133652  \n",
       "4    1756133624  "
      ]
     },
     "execution_count": 19,
     "metadata": {},
     "output_type": "execute_result"
    }
   ],
   "source": [
    "df_tidy['Time of Like'] = [ i[0]['timestamp'] for i in df_tidy['string_list_data']]\n",
    "\n",
    "df_tidy.head()"
   ]
  },
  {
   "cell_type": "code",
   "execution_count": 20,
   "id": "45a225fe-029e-4ea3-b00d-6b373a372ff9",
   "metadata": {},
   "outputs": [],
   "source": [
    "# good to have\n",
    "from datetime import datetime\n",
    "df_tidy['Date of Like'] = [ datetime.fromtimestamp(i[0]['timestamp']) for i in df_tidy['string_list_data']]"
   ]
  },
  {
   "cell_type": "code",
   "execution_count": 24,
   "id": "4015fc5a-c33a-4acf-b6d2-75864253fa7b",
   "metadata": {},
   "outputs": [
    {
     "data": {
      "text/html": [
       "<div>\n",
       "<style scoped>\n",
       "    .dataframe tbody tr th:only-of-type {\n",
       "        vertical-align: middle;\n",
       "    }\n",
       "\n",
       "    .dataframe tbody tr th {\n",
       "        vertical-align: top;\n",
       "    }\n",
       "\n",
       "    .dataframe thead th {\n",
       "        text-align: right;\n",
       "    }\n",
       "</style>\n",
       "<table border=\"1\" class=\"dataframe\">\n",
       "  <thead>\n",
       "    <tr style=\"text-align: right;\">\n",
       "      <th></th>\n",
       "      <th>title</th>\n",
       "      <th>string_list_data</th>\n",
       "      <th>Time of Like</th>\n",
       "      <th>Date of Like</th>\n",
       "    </tr>\n",
       "  </thead>\n",
       "  <tbody>\n",
       "    <tr>\n",
       "      <th>0</th>\n",
       "      <td>holly.perk</td>\n",
       "      <td>[{'href': 'https://www.instagram.com/p/DNyQJx5...</td>\n",
       "      <td>1756143953</td>\n",
       "      <td>2025-08-25 13:45:53</td>\n",
       "    </tr>\n",
       "    <tr>\n",
       "      <th>1</th>\n",
       "      <td>spread.the.grub</td>\n",
       "      <td>[{'href': 'https://www.instagram.com/reel/DMoW...</td>\n",
       "      <td>1756133740</td>\n",
       "      <td>2025-08-25 10:55:40</td>\n",
       "    </tr>\n",
       "    <tr>\n",
       "      <th>2</th>\n",
       "      <td>stellabarbellas</td>\n",
       "      <td>[{'href': 'https://www.instagram.com/p/DFnetCE...</td>\n",
       "      <td>1756133685</td>\n",
       "      <td>2025-08-25 10:54:45</td>\n",
       "    </tr>\n",
       "    <tr>\n",
       "      <th>3</th>\n",
       "      <td>coilz.beauty</td>\n",
       "      <td>[{'href': 'https://www.instagram.com/reel/DMot...</td>\n",
       "      <td>1756133652</td>\n",
       "      <td>2025-08-25 10:54:12</td>\n",
       "    </tr>\n",
       "    <tr>\n",
       "      <th>4</th>\n",
       "      <td>edgarswidit</td>\n",
       "      <td>[{'href': 'https://www.instagram.com/reel/DKbG...</td>\n",
       "      <td>1756133624</td>\n",
       "      <td>2025-08-25 10:53:44</td>\n",
       "    </tr>\n",
       "  </tbody>\n",
       "</table>\n",
       "</div>"
      ],
      "text/plain": [
       "             title                                   string_list_data  \\\n",
       "0       holly.perk  [{'href': 'https://www.instagram.com/p/DNyQJx5...   \n",
       "1  spread.the.grub  [{'href': 'https://www.instagram.com/reel/DMoW...   \n",
       "2  stellabarbellas  [{'href': 'https://www.instagram.com/p/DFnetCE...   \n",
       "3     coilz.beauty  [{'href': 'https://www.instagram.com/reel/DMot...   \n",
       "4      edgarswidit  [{'href': 'https://www.instagram.com/reel/DKbG...   \n",
       "\n",
       "   Time of Like        Date of Like  \n",
       "0    1756143953 2025-08-25 13:45:53  \n",
       "1    1756133740 2025-08-25 10:55:40  \n",
       "2    1756133685 2025-08-25 10:54:45  \n",
       "3    1756133652 2025-08-25 10:54:12  \n",
       "4    1756133624 2025-08-25 10:53:44  "
      ]
     },
     "execution_count": 24,
     "metadata": {},
     "output_type": "execute_result"
    }
   ],
   "source": [
    "df_tidy.head()"
   ]
  },
  {
   "cell_type": "code",
   "execution_count": 31,
   "id": "a9da3d65-824b-44cb-8df4-dfd3ba9899b0",
   "metadata": {},
   "outputs": [
    {
     "data": {
      "text/html": [
       "<div>\n",
       "<style scoped>\n",
       "    .dataframe tbody tr th:only-of-type {\n",
       "        vertical-align: middle;\n",
       "    }\n",
       "\n",
       "    .dataframe tbody tr th {\n",
       "        vertical-align: top;\n",
       "    }\n",
       "\n",
       "    .dataframe thead th {\n",
       "        text-align: right;\n",
       "    }\n",
       "</style>\n",
       "<table border=\"1\" class=\"dataframe\">\n",
       "  <thead>\n",
       "    <tr style=\"text-align: right;\">\n",
       "      <th></th>\n",
       "      <th>title</th>\n",
       "      <th>string_list_data</th>\n",
       "      <th>Time of Like</th>\n",
       "      <th>Date of Like</th>\n",
       "      <th>href</th>\n",
       "    </tr>\n",
       "  </thead>\n",
       "  <tbody>\n",
       "    <tr>\n",
       "      <th>0</th>\n",
       "      <td>holly.perk</td>\n",
       "      <td>[{'href': 'https://www.instagram.com/p/DNyQJx5...</td>\n",
       "      <td>1756143953</td>\n",
       "      <td>2025-08-25 13:45:53</td>\n",
       "      <td>https://www.instagram.com/p/DNyQJx52rPy/</td>\n",
       "    </tr>\n",
       "    <tr>\n",
       "      <th>1</th>\n",
       "      <td>spread.the.grub</td>\n",
       "      <td>[{'href': 'https://www.instagram.com/reel/DMoW...</td>\n",
       "      <td>1756133740</td>\n",
       "      <td>2025-08-25 10:55:40</td>\n",
       "      <td>https://www.instagram.com/reel/DMoWLeOyI_m/</td>\n",
       "    </tr>\n",
       "    <tr>\n",
       "      <th>2</th>\n",
       "      <td>stellabarbellas</td>\n",
       "      <td>[{'href': 'https://www.instagram.com/p/DFnetCE...</td>\n",
       "      <td>1756133685</td>\n",
       "      <td>2025-08-25 10:54:45</td>\n",
       "      <td>https://www.instagram.com/p/DFnetCEA3Wf/</td>\n",
       "    </tr>\n",
       "    <tr>\n",
       "      <th>3</th>\n",
       "      <td>coilz.beauty</td>\n",
       "      <td>[{'href': 'https://www.instagram.com/reel/DMot...</td>\n",
       "      <td>1756133652</td>\n",
       "      <td>2025-08-25 10:54:12</td>\n",
       "      <td>https://www.instagram.com/reel/DMotYHuAllu/</td>\n",
       "    </tr>\n",
       "    <tr>\n",
       "      <th>4</th>\n",
       "      <td>edgarswidit</td>\n",
       "      <td>[{'href': 'https://www.instagram.com/reel/DKbG...</td>\n",
       "      <td>1756133624</td>\n",
       "      <td>2025-08-25 10:53:44</td>\n",
       "      <td>https://www.instagram.com/reel/DKbGpLCRcYq/</td>\n",
       "    </tr>\n",
       "  </tbody>\n",
       "</table>\n",
       "</div>"
      ],
      "text/plain": [
       "             title                                   string_list_data  \\\n",
       "0       holly.perk  [{'href': 'https://www.instagram.com/p/DNyQJx5...   \n",
       "1  spread.the.grub  [{'href': 'https://www.instagram.com/reel/DMoW...   \n",
       "2  stellabarbellas  [{'href': 'https://www.instagram.com/p/DFnetCE...   \n",
       "3     coilz.beauty  [{'href': 'https://www.instagram.com/reel/DMot...   \n",
       "4      edgarswidit  [{'href': 'https://www.instagram.com/reel/DKbG...   \n",
       "\n",
       "   Time of Like        Date of Like  \\\n",
       "0    1756143953 2025-08-25 13:45:53   \n",
       "1    1756133740 2025-08-25 10:55:40   \n",
       "2    1756133685 2025-08-25 10:54:45   \n",
       "3    1756133652 2025-08-25 10:54:12   \n",
       "4    1756133624 2025-08-25 10:53:44   \n",
       "\n",
       "                                          href  \n",
       "0     https://www.instagram.com/p/DNyQJx52rPy/  \n",
       "1  https://www.instagram.com/reel/DMoWLeOyI_m/  \n",
       "2     https://www.instagram.com/p/DFnetCEA3Wf/  \n",
       "3  https://www.instagram.com/reel/DMotYHuAllu/  \n",
       "4  https://www.instagram.com/reel/DKbGpLCRcYq/  "
      ]
     },
     "execution_count": 31,
     "metadata": {},
     "output_type": "execute_result"
    }
   ],
   "source": [
    "df_tidy['href'] = [ i[0]['href'] for i in df_tidy['string_list_data']]\n",
    "df_tidy.head()"
   ]
  },
  {
   "cell_type": "code",
   "execution_count": 32,
   "id": "2880a60c-0d8d-4c6e-a321-4b15f52cbd69",
   "metadata": {},
   "outputs": [
    {
     "data": {
      "text/html": [
       "<div>\n",
       "<style scoped>\n",
       "    .dataframe tbody tr th:only-of-type {\n",
       "        vertical-align: middle;\n",
       "    }\n",
       "\n",
       "    .dataframe tbody tr th {\n",
       "        vertical-align: top;\n",
       "    }\n",
       "\n",
       "    .dataframe thead th {\n",
       "        text-align: right;\n",
       "    }\n",
       "</style>\n",
       "<table border=\"1\" class=\"dataframe\">\n",
       "  <thead>\n",
       "    <tr style=\"text-align: right;\">\n",
       "      <th></th>\n",
       "      <th>title</th>\n",
       "      <th>string_list_data</th>\n",
       "      <th>Time of Like</th>\n",
       "      <th>Date of Like</th>\n",
       "      <th>href</th>\n",
       "      <th>value</th>\n",
       "    </tr>\n",
       "  </thead>\n",
       "  <tbody>\n",
       "    <tr>\n",
       "      <th>0</th>\n",
       "      <td>holly.perk</td>\n",
       "      <td>[{'href': 'https://www.instagram.com/p/DNyQJx5...</td>\n",
       "      <td>1756143953</td>\n",
       "      <td>2025-08-25 13:45:53</td>\n",
       "      <td>https://www.instagram.com/p/DNyQJx52rPy/</td>\n",
       "      <td>ð</td>\n",
       "    </tr>\n",
       "    <tr>\n",
       "      <th>1</th>\n",
       "      <td>spread.the.grub</td>\n",
       "      <td>[{'href': 'https://www.instagram.com/reel/DMoW...</td>\n",
       "      <td>1756133740</td>\n",
       "      <td>2025-08-25 10:55:40</td>\n",
       "      <td>https://www.instagram.com/reel/DMoWLeOyI_m/</td>\n",
       "      <td>ð</td>\n",
       "    </tr>\n",
       "    <tr>\n",
       "      <th>2</th>\n",
       "      <td>stellabarbellas</td>\n",
       "      <td>[{'href': 'https://www.instagram.com/p/DFnetCE...</td>\n",
       "      <td>1756133685</td>\n",
       "      <td>2025-08-25 10:54:45</td>\n",
       "      <td>https://www.instagram.com/p/DFnetCEA3Wf/</td>\n",
       "      <td>ð</td>\n",
       "    </tr>\n",
       "    <tr>\n",
       "      <th>3</th>\n",
       "      <td>coilz.beauty</td>\n",
       "      <td>[{'href': 'https://www.instagram.com/reel/DMot...</td>\n",
       "      <td>1756133652</td>\n",
       "      <td>2025-08-25 10:54:12</td>\n",
       "      <td>https://www.instagram.com/reel/DMotYHuAllu/</td>\n",
       "      <td>ð</td>\n",
       "    </tr>\n",
       "    <tr>\n",
       "      <th>4</th>\n",
       "      <td>edgarswidit</td>\n",
       "      <td>[{'href': 'https://www.instagram.com/reel/DKbG...</td>\n",
       "      <td>1756133624</td>\n",
       "      <td>2025-08-25 10:53:44</td>\n",
       "      <td>https://www.instagram.com/reel/DKbGpLCRcYq/</td>\n",
       "      <td>ð</td>\n",
       "    </tr>\n",
       "  </tbody>\n",
       "</table>\n",
       "</div>"
      ],
      "text/plain": [
       "             title                                   string_list_data  \\\n",
       "0       holly.perk  [{'href': 'https://www.instagram.com/p/DNyQJx5...   \n",
       "1  spread.the.grub  [{'href': 'https://www.instagram.com/reel/DMoW...   \n",
       "2  stellabarbellas  [{'href': 'https://www.instagram.com/p/DFnetCE...   \n",
       "3     coilz.beauty  [{'href': 'https://www.instagram.com/reel/DMot...   \n",
       "4      edgarswidit  [{'href': 'https://www.instagram.com/reel/DKbG...   \n",
       "\n",
       "   Time of Like        Date of Like  \\\n",
       "0    1756143953 2025-08-25 13:45:53   \n",
       "1    1756133740 2025-08-25 10:55:40   \n",
       "2    1756133685 2025-08-25 10:54:45   \n",
       "3    1756133652 2025-08-25 10:54:12   \n",
       "4    1756133624 2025-08-25 10:53:44   \n",
       "\n",
       "                                          href value  \n",
       "0     https://www.instagram.com/p/DNyQJx52rPy/  ð  \n",
       "1  https://www.instagram.com/reel/DMoWLeOyI_m/  ð  \n",
       "2     https://www.instagram.com/p/DFnetCEA3Wf/  ð  \n",
       "3  https://www.instagram.com/reel/DMotYHuAllu/  ð  \n",
       "4  https://www.instagram.com/reel/DKbGpLCRcYq/  ð  "
      ]
     },
     "execution_count": 32,
     "metadata": {},
     "output_type": "execute_result"
    }
   ],
   "source": [
    "df_tidy['value'] = [ i[0]['value'] for i in df_tidy['string_list_data']]\n",
    "df_tidy.head()"
   ]
  },
  {
   "cell_type": "code",
   "execution_count": 33,
   "id": "4f30ee99-7597-47c2-8cda-392a9697083c",
   "metadata": {},
   "outputs": [
    {
     "data": {
      "text/html": [
       "<div>\n",
       "<style scoped>\n",
       "    .dataframe tbody tr th:only-of-type {\n",
       "        vertical-align: middle;\n",
       "    }\n",
       "\n",
       "    .dataframe tbody tr th {\n",
       "        vertical-align: top;\n",
       "    }\n",
       "\n",
       "    .dataframe thead th {\n",
       "        text-align: right;\n",
       "    }\n",
       "</style>\n",
       "<table border=\"1\" class=\"dataframe\">\n",
       "  <thead>\n",
       "    <tr style=\"text-align: right;\">\n",
       "      <th></th>\n",
       "      <th>title</th>\n",
       "      <th>Time of Like</th>\n",
       "      <th>Date of Like</th>\n",
       "      <th>href</th>\n",
       "      <th>value</th>\n",
       "    </tr>\n",
       "  </thead>\n",
       "  <tbody>\n",
       "    <tr>\n",
       "      <th>0</th>\n",
       "      <td>holly.perk</td>\n",
       "      <td>1756143953</td>\n",
       "      <td>2025-08-25 13:45:53</td>\n",
       "      <td>https://www.instagram.com/p/DNyQJx52rPy/</td>\n",
       "      <td>ð</td>\n",
       "    </tr>\n",
       "    <tr>\n",
       "      <th>1</th>\n",
       "      <td>spread.the.grub</td>\n",
       "      <td>1756133740</td>\n",
       "      <td>2025-08-25 10:55:40</td>\n",
       "      <td>https://www.instagram.com/reel/DMoWLeOyI_m/</td>\n",
       "      <td>ð</td>\n",
       "    </tr>\n",
       "    <tr>\n",
       "      <th>2</th>\n",
       "      <td>stellabarbellas</td>\n",
       "      <td>1756133685</td>\n",
       "      <td>2025-08-25 10:54:45</td>\n",
       "      <td>https://www.instagram.com/p/DFnetCEA3Wf/</td>\n",
       "      <td>ð</td>\n",
       "    </tr>\n",
       "    <tr>\n",
       "      <th>3</th>\n",
       "      <td>coilz.beauty</td>\n",
       "      <td>1756133652</td>\n",
       "      <td>2025-08-25 10:54:12</td>\n",
       "      <td>https://www.instagram.com/reel/DMotYHuAllu/</td>\n",
       "      <td>ð</td>\n",
       "    </tr>\n",
       "    <tr>\n",
       "      <th>4</th>\n",
       "      <td>edgarswidit</td>\n",
       "      <td>1756133624</td>\n",
       "      <td>2025-08-25 10:53:44</td>\n",
       "      <td>https://www.instagram.com/reel/DKbGpLCRcYq/</td>\n",
       "      <td>ð</td>\n",
       "    </tr>\n",
       "    <tr>\n",
       "      <th>...</th>\n",
       "      <td>...</td>\n",
       "      <td>...</td>\n",
       "      <td>...</td>\n",
       "      <td>...</td>\n",
       "      <td>...</td>\n",
       "    </tr>\n",
       "    <tr>\n",
       "      <th>7610</th>\n",
       "      <td>theshaderoom</td>\n",
       "      <td>1724621500</td>\n",
       "      <td>2024-08-25 17:31:40</td>\n",
       "      <td>https://www.instagram.com/p/C_G3xfoR9_m/</td>\n",
       "      <td>ð</td>\n",
       "    </tr>\n",
       "    <tr>\n",
       "      <th>7611</th>\n",
       "      <td>kaylynn_sands</td>\n",
       "      <td>1724617180</td>\n",
       "      <td>2024-08-25 16:19:40</td>\n",
       "      <td>https://www.instagram.com/p/C_GwFfMRqwK/</td>\n",
       "      <td>ð</td>\n",
       "    </tr>\n",
       "    <tr>\n",
       "      <th>7612</th>\n",
       "      <td>allthings_rachel_</td>\n",
       "      <td>1724615526</td>\n",
       "      <td>2024-08-25 15:52:06</td>\n",
       "      <td>https://www.instagram.com/reel/C8FXC1BuIWP/</td>\n",
       "      <td>ð</td>\n",
       "    </tr>\n",
       "    <tr>\n",
       "      <th>7613</th>\n",
       "      <td>taylorhennagin</td>\n",
       "      <td>1724615301</td>\n",
       "      <td>2024-08-25 15:48:21</td>\n",
       "      <td>https://www.instagram.com/p/C_GtZoXPIsW/</td>\n",
       "      <td>ð</td>\n",
       "    </tr>\n",
       "    <tr>\n",
       "      <th>7614</th>\n",
       "      <td>theemelaninshadesroom</td>\n",
       "      <td>1724612764</td>\n",
       "      <td>2024-08-25 15:06:04</td>\n",
       "      <td>https://www.instagram.com/p/C-3V9hYyyzo/</td>\n",
       "      <td>ð</td>\n",
       "    </tr>\n",
       "  </tbody>\n",
       "</table>\n",
       "<p>7615 rows × 5 columns</p>\n",
       "</div>"
      ],
      "text/plain": [
       "                      title  Time of Like        Date of Like  \\\n",
       "0                holly.perk    1756143953 2025-08-25 13:45:53   \n",
       "1           spread.the.grub    1756133740 2025-08-25 10:55:40   \n",
       "2           stellabarbellas    1756133685 2025-08-25 10:54:45   \n",
       "3              coilz.beauty    1756133652 2025-08-25 10:54:12   \n",
       "4               edgarswidit    1756133624 2025-08-25 10:53:44   \n",
       "...                     ...           ...                 ...   \n",
       "7610           theshaderoom    1724621500 2024-08-25 17:31:40   \n",
       "7611          kaylynn_sands    1724617180 2024-08-25 16:19:40   \n",
       "7612      allthings_rachel_    1724615526 2024-08-25 15:52:06   \n",
       "7613         taylorhennagin    1724615301 2024-08-25 15:48:21   \n",
       "7614  theemelaninshadesroom    1724612764 2024-08-25 15:06:04   \n",
       "\n",
       "                                             href value  \n",
       "0        https://www.instagram.com/p/DNyQJx52rPy/  ð  \n",
       "1     https://www.instagram.com/reel/DMoWLeOyI_m/  ð  \n",
       "2        https://www.instagram.com/p/DFnetCEA3Wf/  ð  \n",
       "3     https://www.instagram.com/reel/DMotYHuAllu/  ð  \n",
       "4     https://www.instagram.com/reel/DKbGpLCRcYq/  ð  \n",
       "...                                           ...   ...  \n",
       "7610     https://www.instagram.com/p/C_G3xfoR9_m/  ð  \n",
       "7611     https://www.instagram.com/p/C_GwFfMRqwK/  ð  \n",
       "7612  https://www.instagram.com/reel/C8FXC1BuIWP/  ð  \n",
       "7613     https://www.instagram.com/p/C_GtZoXPIsW/  ð  \n",
       "7614     https://www.instagram.com/p/C-3V9hYyyzo/  ð  \n",
       "\n",
       "[7615 rows x 5 columns]"
      ]
     },
     "execution_count": 33,
     "metadata": {},
     "output_type": "execute_result"
    }
   ],
   "source": [
    "df_tidy.drop(columns = ['string_list_data'])"
   ]
  },
  {
   "cell_type": "markdown",
   "id": "b63624b3-8d51-41f9-8221-528da329c1ef",
   "metadata": {},
   "source": [
    "# Section 5"
   ]
  },
  {
   "cell_type": "code",
   "execution_count": 36,
   "id": "558e2cab-0149-4e21-8a5f-8797d1320ee0",
   "metadata": {},
   "outputs": [
    {
     "data": {
      "text/html": [
       "<div>\n",
       "<style scoped>\n",
       "    .dataframe tbody tr th:only-of-type {\n",
       "        vertical-align: middle;\n",
       "    }\n",
       "\n",
       "    .dataframe tbody tr th {\n",
       "        vertical-align: top;\n",
       "    }\n",
       "\n",
       "    .dataframe thead th {\n",
       "        text-align: right;\n",
       "    }\n",
       "</style>\n",
       "<table border=\"1\" class=\"dataframe\">\n",
       "  <thead>\n",
       "    <tr style=\"text-align: right;\">\n",
       "      <th></th>\n",
       "      <th>string_list_data</th>\n",
       "      <th>Time of Like</th>\n",
       "      <th>Date of Like</th>\n",
       "      <th>href</th>\n",
       "      <th>value</th>\n",
       "    </tr>\n",
       "    <tr>\n",
       "      <th>title</th>\n",
       "      <th></th>\n",
       "      <th></th>\n",
       "      <th></th>\n",
       "      <th></th>\n",
       "      <th></th>\n",
       "    </tr>\n",
       "  </thead>\n",
       "  <tbody>\n",
       "    <tr>\n",
       "      <th>theshaderoom</th>\n",
       "      <td>788</td>\n",
       "      <td>788</td>\n",
       "      <td>788</td>\n",
       "      <td>788</td>\n",
       "      <td>788</td>\n",
       "    </tr>\n",
       "    <tr>\n",
       "      <th>complex</th>\n",
       "      <td>272</td>\n",
       "      <td>272</td>\n",
       "      <td>272</td>\n",
       "      <td>272</td>\n",
       "      <td>272</td>\n",
       "    </tr>\n",
       "    <tr>\n",
       "      <th>bleacherreport</th>\n",
       "      <td>213</td>\n",
       "      <td>213</td>\n",
       "      <td>213</td>\n",
       "      <td>213</td>\n",
       "      <td>213</td>\n",
       "    </tr>\n",
       "    <tr>\n",
       "      <th>hoodfeelingsss</th>\n",
       "      <td>98</td>\n",
       "      <td>98</td>\n",
       "      <td>98</td>\n",
       "      <td>98</td>\n",
       "      <td>98</td>\n",
       "    </tr>\n",
       "    <tr>\n",
       "      <th>complexsneakers</th>\n",
       "      <td>89</td>\n",
       "      <td>89</td>\n",
       "      <td>89</td>\n",
       "      <td>89</td>\n",
       "      <td>89</td>\n",
       "    </tr>\n",
       "    <tr>\n",
       "      <th>...</th>\n",
       "      <td>...</td>\n",
       "      <td>...</td>\n",
       "      <td>...</td>\n",
       "      <td>...</td>\n",
       "      <td>...</td>\n",
       "    </tr>\n",
       "    <tr>\n",
       "      <th>herdreamshair</th>\n",
       "      <td>1</td>\n",
       "      <td>1</td>\n",
       "      <td>1</td>\n",
       "      <td>1</td>\n",
       "      <td>1</td>\n",
       "    </tr>\n",
       "    <tr>\n",
       "      <th>herhairandbeauty</th>\n",
       "      <td>1</td>\n",
       "      <td>1</td>\n",
       "      <td>1</td>\n",
       "      <td>1</td>\n",
       "      <td>1</td>\n",
       "    </tr>\n",
       "    <tr>\n",
       "      <th>herheartceo</th>\n",
       "      <td>1</td>\n",
       "      <td>1</td>\n",
       "      <td>1</td>\n",
       "      <td>1</td>\n",
       "      <td>1</td>\n",
       "    </tr>\n",
       "    <tr>\n",
       "      <th>heycourtneymitchell</th>\n",
       "      <td>1</td>\n",
       "      <td>1</td>\n",
       "      <td>1</td>\n",
       "      <td>1</td>\n",
       "      <td>1</td>\n",
       "    </tr>\n",
       "    <tr>\n",
       "      <th>zuzik_life</th>\n",
       "      <td>1</td>\n",
       "      <td>1</td>\n",
       "      <td>1</td>\n",
       "      <td>1</td>\n",
       "      <td>1</td>\n",
       "    </tr>\n",
       "  </tbody>\n",
       "</table>\n",
       "<p>3498 rows × 5 columns</p>\n",
       "</div>"
      ],
      "text/plain": [
       "                     string_list_data  Time of Like  Date of Like  href  value\n",
       "title                                                                         \n",
       "theshaderoom                      788           788           788   788    788\n",
       "complex                           272           272           272   272    272\n",
       "bleacherreport                    213           213           213   213    213\n",
       "hoodfeelingsss                     98            98            98    98     98\n",
       "complexsneakers                    89            89            89    89     89\n",
       "...                               ...           ...           ...   ...    ...\n",
       "herdreamshair                       1             1             1     1      1\n",
       "herhairandbeauty                    1             1             1     1      1\n",
       "herheartceo                         1             1             1     1      1\n",
       "heycourtneymitchell                 1             1             1     1      1\n",
       "zuzik_life                          1             1             1     1      1\n",
       "\n",
       "[3498 rows x 5 columns]"
      ]
     },
     "execution_count": 36,
     "metadata": {},
     "output_type": "execute_result"
    }
   ],
   "source": [
    "df_tidy.groupby('title').count().sort_values('value', ascending = False)"
   ]
  },
  {
   "cell_type": "markdown",
   "id": "14e6da2e-c674-42a7-911d-7372184b2158",
   "metadata": {},
   "source": [
    "# Hypothesis\n",
    "Most of my ads are from retailers that I have purchased from before"
   ]
  },
  {
   "cell_type": "markdown",
   "id": "8070a1f9-db3f-4655-be18-cffdf0e18919",
   "metadata": {},
   "source": [
    "# Section 6"
   ]
  },
  {
   "cell_type": "code",
   "execution_count": 3,
   "id": "62f07d1f-a831-42b8-a381-ef51ea2f9d97",
   "metadata": {},
   "outputs": [],
   "source": [
    "# These are the imports we need\n",
    "import json\n",
    "import pandas as pd\n",
    "import matplotlib as plt"
   ]
  },
  {
   "cell_type": "code",
   "execution_count": 4,
   "id": "8029946b-1257-4a9d-8617-46819d4536fb",
   "metadata": {},
   "outputs": [],
   "source": [
    "path = r\"/Users/Kalayah/Downloads/instagram-peachyyyyy/ads_information/instagram_ads_and_businesses/advertisers_using_your_activity_or_information.json\"\n",
    "with open(path) as l:\n",
    "    dict = json.load(l)"
   ]
  },
  {
   "cell_type": "code",
   "execution_count": 6,
   "id": "714d92c1-7f06-4c4d-ba1b-8e1082e29e8c",
   "metadata": {},
   "outputs": [
    {
     "data": {
      "text/html": [
       "<div>\n",
       "<style scoped>\n",
       "    .dataframe tbody tr th:only-of-type {\n",
       "        vertical-align: middle;\n",
       "    }\n",
       "\n",
       "    .dataframe tbody tr th {\n",
       "        vertical-align: top;\n",
       "    }\n",
       "\n",
       "    .dataframe thead th {\n",
       "        text-align: right;\n",
       "    }\n",
       "</style>\n",
       "<table border=\"1\" class=\"dataframe\">\n",
       "  <thead>\n",
       "    <tr style=\"text-align: right;\">\n",
       "      <th></th>\n",
       "      <th>ig_custom_audiences_all_types</th>\n",
       "    </tr>\n",
       "  </thead>\n",
       "  <tbody>\n",
       "    <tr>\n",
       "      <th>0</th>\n",
       "      <td>{'advertiser_name': 'Crumbl', 'has_data_file_c...</td>\n",
       "    </tr>\n",
       "    <tr>\n",
       "      <th>1</th>\n",
       "      <td>{'advertiser_name': 'We Are BMF', 'has_data_fi...</td>\n",
       "    </tr>\n",
       "    <tr>\n",
       "      <th>2</th>\n",
       "      <td>{'advertiser_name': 'The Container Store', 'ha...</td>\n",
       "    </tr>\n",
       "    <tr>\n",
       "      <th>3</th>\n",
       "      <td>{'advertiser_name': 'RB-SK-Slovakia', 'has_dat...</td>\n",
       "    </tr>\n",
       "    <tr>\n",
       "      <th>4</th>\n",
       "      <td>{'advertiser_name': 'Underoutfit', 'has_data_f...</td>\n",
       "    </tr>\n",
       "    <tr>\n",
       "      <th>5</th>\n",
       "      <td>{'advertiser_name': 'Props.co', 'has_data_file...</td>\n",
       "    </tr>\n",
       "    <tr>\n",
       "      <th>6</th>\n",
       "      <td>{'advertiser_name': 'Hypetap UK', 'has_data_fi...</td>\n",
       "    </tr>\n",
       "    <tr>\n",
       "      <th>7</th>\n",
       "      <td>{'advertiser_name': 'SchroderHaus', 'has_data_...</td>\n",
       "    </tr>\n",
       "    <tr>\n",
       "      <th>8</th>\n",
       "      <td>{'advertiser_name': 'Amylu Foods', 'has_data_f...</td>\n",
       "    </tr>\n",
       "    <tr>\n",
       "      <th>9</th>\n",
       "      <td>{'advertiser_name': 'weareprncpls', 'has_data_...</td>\n",
       "    </tr>\n",
       "  </tbody>\n",
       "</table>\n",
       "</div>"
      ],
      "text/plain": [
       "                       ig_custom_audiences_all_types\n",
       "0  {'advertiser_name': 'Crumbl', 'has_data_file_c...\n",
       "1  {'advertiser_name': 'We Are BMF', 'has_data_fi...\n",
       "2  {'advertiser_name': 'The Container Store', 'ha...\n",
       "3  {'advertiser_name': 'RB-SK-Slovakia', 'has_dat...\n",
       "4  {'advertiser_name': 'Underoutfit', 'has_data_f...\n",
       "5  {'advertiser_name': 'Props.co', 'has_data_file...\n",
       "6  {'advertiser_name': 'Hypetap UK', 'has_data_fi...\n",
       "7  {'advertiser_name': 'SchroderHaus', 'has_data_...\n",
       "8  {'advertiser_name': 'Amylu Foods', 'has_data_f...\n",
       "9  {'advertiser_name': 'weareprncpls', 'has_data_..."
      ]
     },
     "execution_count": 6,
     "metadata": {},
     "output_type": "execute_result"
    }
   ],
   "source": [
    "df = pd.DataFrame(dict)\n",
    "df.head(10)"
   ]
  },
  {
   "cell_type": "markdown",
   "id": "844f0f09-0fe3-4b02-99f7-7afeb21951c1",
   "metadata": {},
   "source": [
    "# Reflection\n",
    "### Most of my ads are from retailers thatt I have not bought from, however I do get a lot of ads from Crumbl Cookies which I do purchase cookies there very frequently."
   ]
  },
  {
   "cell_type": "code",
   "execution_count": null,
   "id": "25742c49-71f4-406f-bf1b-7762d910d5b1",
   "metadata": {},
   "outputs": [],
   "source": []
  }
 ],
 "metadata": {
  "kernelspec": {
   "display_name": "Python 3 (ipykernel)",
   "language": "python",
   "name": "python3"
  },
  "language_info": {
   "codemirror_mode": {
    "name": "ipython",
    "version": 3
   },
   "file_extension": ".py",
   "mimetype": "text/x-python",
   "name": "python",
   "nbconvert_exporter": "python",
   "pygments_lexer": "ipython3",
   "version": "3.12.11"
  }
 },
 "nbformat": 4,
 "nbformat_minor": 5
}
